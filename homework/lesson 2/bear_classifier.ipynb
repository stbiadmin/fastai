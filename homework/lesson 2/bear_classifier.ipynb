
#from utils import *
from fastai2.vision.all import *
from fastai2.vision.widgets import *

